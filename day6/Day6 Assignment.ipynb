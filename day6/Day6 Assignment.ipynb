{
 "cells": [
  {
   "cell_type": "markdown",
   "metadata": {},
   "source": [
    "1.Assuming that we have some email addresses in the \"username@companyname.com\" format, please write program\n",
    "to print the company name of a given email address. Both user names and company names are composed of letters\n",
    "only.\n",
    "Input Format:\n",
    "The first line of the input contains an email address.\n",
    "Output Format:\n",
    "Print the company name in single line.\n",
    "Example;\n",
    "Input:\n",
    "john@google.com\n",
    "Output:\n",
    "google"
   ]
  },
  {
   "cell_type": "code",
   "execution_count": 1,
   "metadata": {},
   "outputs": [
    {
     "name": "stdout",
     "output_type": "stream",
     "text": [
      "bhaskar@gmail.com\n",
      "gmailreddy@yahoo.com\n",
      "yahoo\n"
     ]
    }
   ],
   "source": [
    "x=input();\n",
    "print(x[x.index('@')+1:-4],end=\"\");\n",
    "\n",
    "import re\n",
    "emailAddress = input()\n",
    "pat2 = \"(\\w+)@(\\w+)\\.(com)\"\n",
    "r2 = re.match(pat2,emailAddress)\n",
    "print(r2.group(2))\n"
   ]
  },
  {
   "cell_type": "markdown",
   "metadata": {},
   "source": [
    "2.Write a program that accepts a comma-separated sequence of words as input and prints the words in a comma separated sequence after sorting them alphabetically. Input Format: The first line of input contains words separated by the comma. Output Format: Print the sorted words separated by the comma. Example: Input: without,hello,bag,world Output: bag,hello,without,world"
   ]
  },
  {
   "cell_type": "code",
   "execution_count": 2,
   "metadata": {},
   "outputs": [
    {
     "name": "stdout",
     "output_type": "stream",
     "text": [
      "Input comma separated sequence of wordswithout,hello,bag,world\n",
      "bag,hello,without,world\n"
     ]
    }
   ],
   "source": [
    "items = input(\"Input comma separated sequence of words\")\n",
    "words = [word for word in items.split(\",\")]\n",
    "print(\",\".join(sorted(list(set(words)))))"
   ]
  },
  {
   "cell_type": "markdown",
   "metadata": {},
   "source": [
    "4.Given a list of n-1 numbers ranging from 1 to n, your task is to find the missing number. There are no duplicates. Input Format: The first line contains n-1 numbers with each number separated by a space. Output Format: Print the missing number Example: Input:1 2 4 6 3 7 8 Output:5"
   ]
  },
  {
   "cell_type": "code",
   "execution_count": 4,
   "metadata": {},
   "outputs": [
    {
     "name": "stdout",
     "output_type": "stream",
     "text": [
      "5.0\n"
     ]
    }
   ],
   "source": [
    "def getMissingNo(A): \n",
    "\tn = len(A) \n",
    "\ttotal = (n + 1)*(n + 2)/2\n",
    "\tsum_of_A = sum(A) \n",
    "\treturn total - sum_of_A \n",
    "\n",
    "# Driver program to test the above function \n",
    "A = [1,2,4,6,3,7,8] \n",
    "miss = getMissingNo(A) \n",
    "print(miss)"
   ]
  },
  {
   "cell_type": "markdown",
   "metadata": {},
   "source": [
    "5.With a given list L, write a program to print this list L after removing all duplicate values with original order reserved. Example: If the input list is 12 24 35 24 88 120 155 88 120 155 Then the output should be 12 24 35 88 120 155"
   ]
  },
  {
   "cell_type": "code",
   "execution_count": null,
   "metadata": {},
   "outputs": [
    {
     "name": "stdout",
     "output_type": "stream",
     "text": [
      "12 24 35 24 88 120 155 88 120 155 \n",
      "12 24 35 88 120 155 "
     ]
    }
   ],
   "source": [
    "s=map(int,input().split());\n",
    "d={};\n",
    "for i in s:\n",
    "  try:\n",
    "    d[i]+=1;\n",
    "  except:\n",
    "    print(i,end=' ');\n",
    "    d[i]=1;\n",
    "\n",
    "\n",
    "# In[2]:\n",
    "\n",
    "\n",
    "def removeDuplicate( li ):\n",
    "    newli=[]\n",
    "    seen = set()\n",
    "    for item in li:\n",
    "        if item not in seen:\n",
    "            seen.add( item )\n",
    "            newli.append(item)\n",
    "\n",
    "    return newli\n",
    "\n",
    "li=[]\n",
    "li= list(map(int, input ().split ()))\n",
    "x = removeDuplicate(li)\n",
    "\n",
    "for i in x:\n",
    "    print(i,end=\" \")"
   ]
  },
  {
   "cell_type": "code",
   "execution_count": null,
   "metadata": {},
   "outputs": [],
   "source": []
  },
  {
   "cell_type": "code",
   "execution_count": null,
   "metadata": {},
   "outputs": [],
   "source": []
  },
  {
   "cell_type": "code",
   "execution_count": null,
   "metadata": {},
   "outputs": [],
   "source": []
  }
 ],
 "metadata": {
  "kernelspec": {
   "display_name": "Python 3",
   "language": "python",
   "name": "python3"
  },
  "language_info": {
   "codemirror_mode": {
    "name": "ipython",
    "version": 3
   },
   "file_extension": ".py",
   "mimetype": "text/x-python",
   "name": "python",
   "nbconvert_exporter": "python",
   "pygments_lexer": "ipython3",
   "version": "3.7.6"
  },
  "toc": {
   "base_numbering": 1,
   "nav_menu": {},
   "number_sections": true,
   "sideBar": true,
   "skip_h1_title": false,
   "title_cell": "Table of Contents",
   "title_sidebar": "Contents",
   "toc_cell": false,
   "toc_position": {},
   "toc_section_display": true,
   "toc_window_display": false
  }
 },
 "nbformat": 4,
 "nbformat_minor": 4
}
