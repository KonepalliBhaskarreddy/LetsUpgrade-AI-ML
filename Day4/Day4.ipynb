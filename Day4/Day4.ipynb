{
 "cells": [
  {
   "cell_type": "code",
   "execution_count": 18,
   "metadata": {},
   "outputs": [
    {
     "name": "stdout",
     "output_type": "stream",
     "text": [
      "Addition of two numbers: (5-2j)\n",
      "subtraction of two numbers: (-1+8j)\n",
      "multiplication of two numbers: (21-1j)\n",
      "division of two numbers: (-0.2647058823529412+0.5588235294117647j)\n"
     ]
    }
   ],
   "source": [
    "\"\"\"Question 1 :Research on whether addition, subtraction, multiplication, division, floor division and modulo\n",
    "operations be performed on complex numbers. Based on your study, implement a Python\n",
    "program to demonstrate these operations\"\"\"\n",
    "# Addition\n",
    "x = 2+3j\n",
    "y = 3-5j\n",
    "# z = x + y\n",
    "print (\"Addition of two numbers:\", x+y)\n",
    "# subtraction\n",
    "# z = x - y\n",
    "print (\"subtraction of two numbers:\", x-y)\n",
    "# multiplication\n",
    "# z = x * y\n",
    "print (\"multiplication of two numbers:\", x*y)\n",
    "#division\n",
    "# z = x / y\n",
    "print (\"division of two numbers:\", x/y)\n"
   ]
  },
  {
   "cell_type": "code",
   "execution_count": 4,
   "metadata": {},
   "outputs": [
    {
     "name": "stdout",
     "output_type": "stream",
     "text": [
      "0\n",
      "1\n",
      "2\n",
      "3\n",
      "4\n",
      "5\n"
     ]
    }
   ],
   "source": [
    "\"\"\"Question 2 :\n",
    "Research on range() functions and its parameters. Create a markdown cell and write in your own\n",
    "words (no copy-paste from google please) what you understand about it. Implement a small\n",
    "program of your choice on the same.\"\"\"\n",
    "x = range(6)\n",
    "for n in x:\n",
    "  print(n)"
   ]
  },
  {
   "cell_type": "code",
   "execution_count": null,
   "metadata": {},
   "outputs": [],
   "source": []
  },
  {
   "cell_type": "code",
   "execution_count": 20,
   "metadata": {},
   "outputs": [
    {
     "name": "stdout",
     "output_type": "stream",
     "text": [
      "4\n",
      "division 2.0\n"
     ]
    }
   ],
   "source": [
    "#Question 3: Consider two numbers. Perform their subtraction and if the result of subtraction is greater than25, print their multiplication result else print their division result.\n",
    "\n",
    "a=8\n",
    "b=4\n",
    "c=a-b\n",
    "print(c)\n",
    "if (c>25): \n",
    "\tprint(\"multiplication\",a*b)\n",
    "else:\n",
    "\tprint(\"division\",a/b)\n",
    "\n",
    "\n"
   ]
  },
  {
   "cell_type": "code",
   "execution_count": 28,
   "metadata": {},
   "outputs": [
    {
     "ename": "TypeError",
     "evalue": "'type' object is not subscriptable",
     "output_type": "error",
     "traceback": [
      "\u001b[1;31m---------------------------------------------------------------------------\u001b[0m",
      "\u001b[1;31mTypeError\u001b[0m                                 Traceback (most recent call last)",
      "\u001b[1;32m<ipython-input-28-d5246d591e46>\u001b[0m in \u001b[0;36m<module>\u001b[1;34m\u001b[0m\n\u001b[0;32m      1\u001b[0m \u001b[1;31m#Question 4:Consider a list of 10 elements of integer values. If the number in the list is divisible by 2, print the result as \"square of that number minus 2\".\u001b[0m\u001b[1;33m\u001b[0m\u001b[1;33m\u001b[0m\u001b[1;33m\u001b[0m\u001b[0m\n\u001b[1;32m----> 2\u001b[1;33m \u001b[0ma\u001b[0m \u001b[1;33m=\u001b[0m \u001b[0mint\u001b[0m\u001b[1;33m[\u001b[0m\u001b[1;36m1\u001b[0m\u001b[1;33m,\u001b[0m\u001b[1;36m2\u001b[0m\u001b[1;33m,\u001b[0m\u001b[1;36m3\u001b[0m\u001b[1;33m,\u001b[0m\u001b[1;36m53\u001b[0m\u001b[1;33m,\u001b[0m\u001b[1;36m45\u001b[0m\u001b[1;33m,\u001b[0m\u001b[1;36m65\u001b[0m\u001b[1;33m,\u001b[0m\u001b[1;36m67\u001b[0m\u001b[1;33m,\u001b[0m\u001b[1;36m13\u001b[0m\u001b[1;33m,\u001b[0m\u001b[1;36m15\u001b[0m\u001b[1;33m,\u001b[0m\u001b[1;36m23\u001b[0m\u001b[1;33m]\u001b[0m\u001b[1;33m\u001b[0m\u001b[1;33m\u001b[0m\u001b[0m\n\u001b[0m\u001b[0;32m      3\u001b[0m \u001b[1;32mif\u001b[0m \u001b[0ma\u001b[0m\u001b[1;33m%\u001b[0m\u001b[1;36m2\u001b[0m \u001b[1;33m==\u001b[0m \u001b[1;36m0\u001b[0m\u001b[1;33m:\u001b[0m \u001b[1;31m#checking divisiblity by 2\u001b[0m\u001b[1;33m\u001b[0m\u001b[1;33m\u001b[0m\u001b[0m\n\u001b[0;32m      4\u001b[0m         \u001b[0mprint\u001b[0m\u001b[1;33m(\u001b[0m\u001b[1;34m\"square of that number minus 2\"\u001b[0m\u001b[1;33m)\u001b[0m\u001b[1;33m\u001b[0m\u001b[1;33m\u001b[0m\u001b[0m\n",
      "\u001b[1;31mTypeError\u001b[0m: 'type' object is not subscriptable"
     ]
    }
   ],
   "source": [
    "#Question 4:Consider a list of 10 elements of integer values. If the number in the list is divisible by 2, print the result as \"square of that number minus 2\".\n",
    "a = int[1,2,3,53,45,65,67,13,15,23]\n",
    "if a%2 == 0: #checking divisiblity by 2\n",
    "\tprint(\"square of that number minus 2\")\n"
   ]
  },
  {
   "cell_type": "code",
   "execution_count": 29,
   "metadata": {},
   "outputs": [
    {
     "ename": "SyntaxError",
     "evalue": "unexpected EOF while parsing (<ipython-input-29-c0c08d8afc84>, line 21)",
     "output_type": "error",
     "traceback": [
      "\u001b[1;36m  File \u001b[1;32m\"<ipython-input-29-c0c08d8afc84>\"\u001b[1;36m, line \u001b[1;32m21\u001b[0m\n\u001b[1;33m    print (\"The numbers greater than 4 : \" + str(count)\u001b[0m\n\u001b[1;37m                                                       ^\u001b[0m\n\u001b[1;31mSyntaxError\u001b[0m\u001b[1;31m:\u001b[0m unexpected EOF while parsing\n"
     ]
    }
   ],
   "source": [
    "\"\"\"Question 5:\n",
    "Consider a list of 10 elements. Print all the elements in the list which are greater than 7 when that\n",
    "number is divided 2.\"\"\"\n",
    "\n",
    "test_list = [1, 7, 5, 6, 3, 8,9,10,13,16] \n",
    "  \n",
    "# initializing k \n",
    "k = 7\n",
    "\n",
    "for i in test_list : \n",
    "    if i > k : \n",
    "        count = count + 1\n",
    "  \n",
    "# printing the intersection  \n",
    "print (\"The numbers greater than 7 : \" + str(count)"
   ]
  },
  {
   "cell_type": "code",
   "execution_count": null,
   "metadata": {},
   "outputs": [],
   "source": []
  },
  {
   "cell_type": "code",
   "execution_count": null,
   "metadata": {},
   "outputs": [],
   "source": []
  },
  {
   "cell_type": "code",
   "execution_count": null,
   "metadata": {},
   "outputs": [],
   "source": []
  }
 ],
 "metadata": {
  "kernelspec": {
   "display_name": "Python 3",
   "language": "python",
   "name": "python3"
  },
  "language_info": {
   "codemirror_mode": {
    "name": "ipython",
    "version": 3
   },
   "file_extension": ".py",
   "mimetype": "text/x-python",
   "name": "python",
   "nbconvert_exporter": "python",
   "pygments_lexer": "ipython3",
   "version": "3.7.6"
  }
 },
 "nbformat": 4,
 "nbformat_minor": 4
}
