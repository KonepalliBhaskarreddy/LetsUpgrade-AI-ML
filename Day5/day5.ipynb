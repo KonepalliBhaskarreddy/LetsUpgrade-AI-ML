{
 "cells": [
  {
   "cell_type": "code",
   "execution_count": 1,
   "metadata": {},
   "outputs": [
    {
     "name": "stdout",
     "output_type": "stream",
     "text": [
      "50\n",
      "50 is not a prime number\n"
     ]
    }
   ],
   "source": [
    "#Write a Python program to find the first 20 non-even prime natural numbers.\n",
    "\n",
    "num = int(input())\n",
    "#num = 11\n",
    "if num >1:\n",
    "  for i in range(2,num//2):\n",
    "    if(num%i)==0:\n",
    "      print(num,\"is not a prime number\")\n",
    "      break\n",
    "  else:\n",
    "      print(num,\"is a prime number\")\n",
    "else:\n",
    "  print(num,\"is not a prime number\")"
   ]
  },
  {
   "cell_type": "code",
   "execution_count": 2,
   "metadata": {},
   "outputs": [
    {
     "name": "stdout",
     "output_type": "stream",
     "text": [
      "Enter a string:bhaskarreddy\n",
      "Not a palindrome\n"
     ]
    }
   ],
   "source": [
    "#Write a Python program to check if the given string is a Palindrome or Anagram or None of them.Display the message accordingly to the user.\n",
    "\n",
    "string=input((\"Enter a string:\"))\n",
    "if(string==string[::-1]):\n",
    "      print(\"The string is a palindrome\")\n",
    "else:\n",
    "      print(\"Not a palindrome\")"
   ]
  },
  {
   "cell_type": "code",
   "execution_count": 5,
   "metadata": {},
   "outputs": [
    {
     "name": "stdout",
     "output_type": "stream",
     "text": [
      "s =  bhaskarreddy\n",
      "s[4]= k\n",
      "s[:7]= bhaskar\n",
      "s[3:]= skarreddy\n",
      "s[:-7]= bhask\n",
      "s[-8:-2]= karred\n"
     ]
    }
   ],
   "source": [
    "#Write a Python program to implement 15 functions of string.\n",
    "s= 'bhaskarreddy'\n",
    "print('s = ', s)\n",
    "print('s[4]=',s[4])\n",
    "print('s[:7]=',s[:7])\n",
    "print('s[3:]=',s[3:])\n",
    "print('s[:-7]=',s[:-7])\n",
    "print('s[-8:-2]=',s[-8:-2])\n"
   ]
  },
  {
   "cell_type": "code",
   "execution_count": 8,
   "metadata": {},
   "outputs": [
    {
     "name": "stdout",
     "output_type": "stream",
     "text": [
      "s =  BHASKAR REDDY\n",
      "lowercase() =  bhaskar reddy\n"
     ]
    }
   ],
   "source": [
    "#Write a Python's user defined function that removes all the additional characters from the string and converts it finally to lower case using built-in lower(). \n",
    "s= 'BHASKAR REDDY'\n",
    "print('s = ', s)\n",
    "\n",
    "print('lowercase() = ', s.lower())\n",
    "      "
   ]
  },
  {
   "cell_type": "code",
   "execution_count": null,
   "metadata": {},
   "outputs": [],
   "source": []
  }
 ],
 "metadata": {
  "kernelspec": {
   "display_name": "Python 3",
   "language": "python",
   "name": "python3"
  },
  "language_info": {
   "codemirror_mode": {
    "name": "ipython",
    "version": 3
   },
   "file_extension": ".py",
   "mimetype": "text/x-python",
   "name": "python",
   "nbconvert_exporter": "python",
   "pygments_lexer": "ipython3",
   "version": "3.7.6"
  }
 },
 "nbformat": 4,
 "nbformat_minor": 4
}
